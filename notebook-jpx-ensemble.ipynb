{
 "cells": [
  {
   "cell_type": "markdown",
   "id": "222d4ef2",
   "metadata": {
    "papermill": {
     "duration": 0.005073,
     "end_time": "2022-07-05T21:41:18.747209",
     "exception": false,
     "start_time": "2022-07-05T21:41:18.742136",
     "status": "completed"
    },
    "tags": []
   },
   "source": [
    "## Start"
   ]
  },
  {
   "cell_type": "code",
   "execution_count": 1,
   "id": "47875355",
   "metadata": {
    "_cell_guid": "b1076dfc-b9ad-4769-8c92-a6c4dae69d19",
    "_uuid": "8f2839f25d086af736a60e9eeb907d3b93b6e0e5",
    "execution": {
     "iopub.execute_input": "2022-07-05T21:41:18.757085Z",
     "iopub.status.busy": "2022-07-05T21:41:18.756412Z",
     "iopub.status.idle": "2022-07-05T21:41:20.838271Z",
     "shell.execute_reply": "2022-07-05T21:41:20.836030Z"
    },
    "papermill": {
     "duration": 2.090678,
     "end_time": "2022-07-05T21:41:20.841814",
     "exception": false,
     "start_time": "2022-07-05T21:41:18.751136",
     "status": "completed"
    },
    "tags": []
   },
   "outputs": [
    {
     "data": {
      "text/html": [
       "<style type='text/css'>\n",
       ".datatable table.frame { margin-bottom: 0; }\n",
       ".datatable table.frame thead { border-bottom: none; }\n",
       ".datatable table.frame tr.coltypes td {  color: #FFFFFF;  line-height: 6px;  padding: 0 0.5em;}\n",
       ".datatable .bool    { background: #DDDD99; }\n",
       ".datatable .object  { background: #565656; }\n",
       ".datatable .int     { background: #5D9E5D; }\n",
       ".datatable .float   { background: #4040CC; }\n",
       ".datatable .str     { background: #CC4040; }\n",
       ".datatable .time    { background: #40CC40; }\n",
       ".datatable .row_index {  background: var(--jp-border-color3);  border-right: 1px solid var(--jp-border-color0);  color: var(--jp-ui-font-color3);  font-size: 9px;}\n",
       ".datatable .frame tbody td { text-align: left; }\n",
       ".datatable .frame tr.coltypes .row_index {  background: var(--jp-border-color0);}\n",
       ".datatable th:nth-child(2) { padding-left: 12px; }\n",
       ".datatable .hellipsis {  color: var(--jp-cell-editor-border-color);}\n",
       ".datatable .vellipsis {  background: var(--jp-layout-color0);  color: var(--jp-cell-editor-border-color);}\n",
       ".datatable .na {  color: var(--jp-cell-editor-border-color);  font-size: 80%;}\n",
       ".datatable .sp {  opacity: 0.25;}\n",
       ".datatable .footer { font-size: 9px; }\n",
       ".datatable .frame_dimensions {  background: var(--jp-border-color3);  border-top: 1px solid var(--jp-border-color0);  color: var(--jp-ui-font-color3);  display: inline-block;  opacity: 0.6;  padding: 1px 10px 1px 5px;}\n",
       "</style>\n"
      ],
      "text/plain": [
       "<IPython.core.display.HTML object>"
      ]
     },
     "metadata": {},
     "output_type": "display_data"
    },
    {
     "name": "stdout",
     "output_type": "stream",
     "text": [
      "/kaggle/input/jpx-tokyo-stock-exchange-prediction/stock_list.csv\n",
      "/kaggle/input/jpx-tokyo-stock-exchange-prediction/example_test_files/sample_submission.csv\n",
      "/kaggle/input/jpx-tokyo-stock-exchange-prediction/example_test_files/options.csv\n",
      "/kaggle/input/jpx-tokyo-stock-exchange-prediction/example_test_files/financials.csv\n",
      "/kaggle/input/jpx-tokyo-stock-exchange-prediction/example_test_files/secondary_stock_prices.csv\n",
      "/kaggle/input/jpx-tokyo-stock-exchange-prediction/example_test_files/trades.csv\n",
      "/kaggle/input/jpx-tokyo-stock-exchange-prediction/example_test_files/stock_prices.csv\n",
      "/kaggle/input/jpx-tokyo-stock-exchange-prediction/jpx_tokyo_market_prediction/competition.cpython-37m-x86_64-linux-gnu.so\n",
      "/kaggle/input/jpx-tokyo-stock-exchange-prediction/jpx_tokyo_market_prediction/__init__.py\n",
      "/kaggle/input/jpx-tokyo-stock-exchange-prediction/data_specifications/stock_fin_spec.csv\n",
      "/kaggle/input/jpx-tokyo-stock-exchange-prediction/data_specifications/trades_spec.csv\n",
      "/kaggle/input/jpx-tokyo-stock-exchange-prediction/data_specifications/stock_price_spec.csv\n",
      "/kaggle/input/jpx-tokyo-stock-exchange-prediction/data_specifications/options_spec.csv\n",
      "/kaggle/input/jpx-tokyo-stock-exchange-prediction/data_specifications/stock_list_spec.csv\n",
      "/kaggle/input/jpx-tokyo-stock-exchange-prediction/train_files/options.csv\n",
      "/kaggle/input/jpx-tokyo-stock-exchange-prediction/train_files/financials.csv\n",
      "/kaggle/input/jpx-tokyo-stock-exchange-prediction/train_files/secondary_stock_prices.csv\n",
      "/kaggle/input/jpx-tokyo-stock-exchange-prediction/train_files/trades.csv\n",
      "/kaggle/input/jpx-tokyo-stock-exchange-prediction/train_files/stock_prices.csv\n",
      "/kaggle/input/jpx-tokyo-stock-exchange-prediction/supplemental_files/options.csv\n",
      "/kaggle/input/jpx-tokyo-stock-exchange-prediction/supplemental_files/financials.csv\n",
      "/kaggle/input/jpx-tokyo-stock-exchange-prediction/supplemental_files/secondary_stock_prices.csv\n",
      "/kaggle/input/jpx-tokyo-stock-exchange-prediction/supplemental_files/trades.csv\n",
      "/kaggle/input/jpx-tokyo-stock-exchange-prediction/supplemental_files/stock_prices.csv\n"
     ]
    }
   ],
   "source": [
    "# This Python 3 environment comes with many helpful analytics libraries installed\n",
    "# It is defined by the kaggle/python Docker image: https://github.com/kaggle/docker-python\n",
    "# For example, here's several helpful packages to load\n",
    "\n",
    "import numpy as np # linear algebra\n",
    "import pandas as pd # data processing, CSV file I/O (e.g. pd.read_csv)\n",
    "\n",
    "import matplotlib.pyplot as plt\n",
    "from tqdm import tqdm\n",
    "import lightgbm as lgb\n",
    "import gc\n",
    "import multiprocessing\n",
    "from IPython.display import display\n",
    "import random\n",
    "\n",
    "import sklearn\n",
    "\n",
    "random.seed(0)\n",
    "np.random.seed(0)\n",
    "\n",
    "# Input data files are available in the read-only \"../input/\" directory\n",
    "# For example, running this (by clicking run or pressing Shift+Enter) will list all files under the input directory\n",
    "\n",
    "import os\n",
    "for dirname, _, filenames in os.walk('/kaggle/input'):\n",
    "    for filename in filenames:\n",
    "        print(os.path.join(dirname, filename))\n",
    "\n",
    "# You can write up to 20GB to the current directory (/kaggle/working/) that gets preserved as output when you create a version using \"Save & Run All\" \n",
    "# You can also write temporary files to /kaggle/temp/, but they won't be saved outside of the current session"
   ]
  },
  {
   "cell_type": "code",
   "execution_count": 2,
   "id": "39cae543",
   "metadata": {
    "execution": {
     "iopub.execute_input": "2022-07-05T21:41:20.851581Z",
     "iopub.status.busy": "2022-07-05T21:41:20.851160Z",
     "iopub.status.idle": "2022-07-05T21:41:29.296596Z",
     "shell.execute_reply": "2022-07-05T21:41:29.295809Z"
    },
    "papermill": {
     "duration": 8.452315,
     "end_time": "2022-07-05T21:41:29.298427",
     "exception": false,
     "start_time": "2022-07-05T21:41:20.846112",
     "status": "completed"
    },
    "tags": []
   },
   "outputs": [
    {
     "data": {
      "text/html": [
       "<div>\n",
       "<style scoped>\n",
       "    .dataframe tbody tr th:only-of-type {\n",
       "        vertical-align: middle;\n",
       "    }\n",
       "\n",
       "    .dataframe tbody tr th {\n",
       "        vertical-align: top;\n",
       "    }\n",
       "\n",
       "    .dataframe thead th {\n",
       "        text-align: right;\n",
       "    }\n",
       "</style>\n",
       "<table border=\"1\" class=\"dataframe\">\n",
       "  <thead>\n",
       "    <tr style=\"text-align: right;\">\n",
       "      <th></th>\n",
       "      <th>Date</th>\n",
       "      <th>SecuritiesCode</th>\n",
       "      <th>Open</th>\n",
       "      <th>High</th>\n",
       "      <th>Low</th>\n",
       "      <th>Close</th>\n",
       "      <th>Volume</th>\n",
       "      <th>AdjustmentFactor</th>\n",
       "      <th>ExpectedDividend</th>\n",
       "      <th>SupervisionFlag</th>\n",
       "      <th>Target</th>\n",
       "      <th>CumAdjustmentFactor</th>\n",
       "    </tr>\n",
       "  </thead>\n",
       "  <tbody>\n",
       "    <tr>\n",
       "      <th>0</th>\n",
       "      <td>2017-01-04</td>\n",
       "      <td>1301</td>\n",
       "      <td>2734.0</td>\n",
       "      <td>2755.0</td>\n",
       "      <td>2730.0</td>\n",
       "      <td>2742.0</td>\n",
       "      <td>31400.0</td>\n",
       "      <td>1.0</td>\n",
       "      <td>0.0</td>\n",
       "      <td>False</td>\n",
       "      <td>0.000730</td>\n",
       "      <td>1.0</td>\n",
       "    </tr>\n",
       "    <tr>\n",
       "      <th>1</th>\n",
       "      <td>2017-01-04</td>\n",
       "      <td>1332</td>\n",
       "      <td>568.0</td>\n",
       "      <td>576.0</td>\n",
       "      <td>563.0</td>\n",
       "      <td>571.0</td>\n",
       "      <td>2798500.0</td>\n",
       "      <td>1.0</td>\n",
       "      <td>0.0</td>\n",
       "      <td>False</td>\n",
       "      <td>0.012324</td>\n",
       "      <td>1.0</td>\n",
       "    </tr>\n",
       "    <tr>\n",
       "      <th>2</th>\n",
       "      <td>2017-01-04</td>\n",
       "      <td>1333</td>\n",
       "      <td>3150.0</td>\n",
       "      <td>3210.0</td>\n",
       "      <td>3140.0</td>\n",
       "      <td>3210.0</td>\n",
       "      <td>270800.0</td>\n",
       "      <td>1.0</td>\n",
       "      <td>0.0</td>\n",
       "      <td>False</td>\n",
       "      <td>0.006154</td>\n",
       "      <td>1.0</td>\n",
       "    </tr>\n",
       "    <tr>\n",
       "      <th>3</th>\n",
       "      <td>2017-01-04</td>\n",
       "      <td>1376</td>\n",
       "      <td>1510.0</td>\n",
       "      <td>1550.0</td>\n",
       "      <td>1510.0</td>\n",
       "      <td>1550.0</td>\n",
       "      <td>11300.0</td>\n",
       "      <td>1.0</td>\n",
       "      <td>0.0</td>\n",
       "      <td>False</td>\n",
       "      <td>0.011053</td>\n",
       "      <td>1.0</td>\n",
       "    </tr>\n",
       "    <tr>\n",
       "      <th>4</th>\n",
       "      <td>2017-01-04</td>\n",
       "      <td>1377</td>\n",
       "      <td>3270.0</td>\n",
       "      <td>3350.0</td>\n",
       "      <td>3270.0</td>\n",
       "      <td>3330.0</td>\n",
       "      <td>150800.0</td>\n",
       "      <td>1.0</td>\n",
       "      <td>0.0</td>\n",
       "      <td>False</td>\n",
       "      <td>0.003026</td>\n",
       "      <td>1.0</td>\n",
       "    </tr>\n",
       "    <tr>\n",
       "      <th>...</th>\n",
       "      <td>...</td>\n",
       "      <td>...</td>\n",
       "      <td>...</td>\n",
       "      <td>...</td>\n",
       "      <td>...</td>\n",
       "      <td>...</td>\n",
       "      <td>...</td>\n",
       "      <td>...</td>\n",
       "      <td>...</td>\n",
       "      <td>...</td>\n",
       "      <td>...</td>\n",
       "      <td>...</td>\n",
       "    </tr>\n",
       "    <tr>\n",
       "      <th>2593981</th>\n",
       "      <td>2022-06-24</td>\n",
       "      <td>9990</td>\n",
       "      <td>576.0</td>\n",
       "      <td>576.0</td>\n",
       "      <td>563.0</td>\n",
       "      <td>564.0</td>\n",
       "      <td>24200.0</td>\n",
       "      <td>1.0</td>\n",
       "      <td>0.0</td>\n",
       "      <td>False</td>\n",
       "      <td>0.027073</td>\n",
       "      <td>1.0</td>\n",
       "    </tr>\n",
       "    <tr>\n",
       "      <th>2593982</th>\n",
       "      <td>2022-06-24</td>\n",
       "      <td>9991</td>\n",
       "      <td>810.0</td>\n",
       "      <td>815.0</td>\n",
       "      <td>804.0</td>\n",
       "      <td>815.0</td>\n",
       "      <td>8700.0</td>\n",
       "      <td>1.0</td>\n",
       "      <td>0.0</td>\n",
       "      <td>False</td>\n",
       "      <td>0.001220</td>\n",
       "      <td>1.0</td>\n",
       "    </tr>\n",
       "    <tr>\n",
       "      <th>2593983</th>\n",
       "      <td>2022-06-24</td>\n",
       "      <td>9993</td>\n",
       "      <td>1548.0</td>\n",
       "      <td>1548.0</td>\n",
       "      <td>1497.0</td>\n",
       "      <td>1497.0</td>\n",
       "      <td>12600.0</td>\n",
       "      <td>1.0</td>\n",
       "      <td>0.0</td>\n",
       "      <td>False</td>\n",
       "      <td>0.001329</td>\n",
       "      <td>1.0</td>\n",
       "    </tr>\n",
       "    <tr>\n",
       "      <th>2593984</th>\n",
       "      <td>2022-06-24</td>\n",
       "      <td>9994</td>\n",
       "      <td>2507.0</td>\n",
       "      <td>2527.0</td>\n",
       "      <td>2498.0</td>\n",
       "      <td>2527.0</td>\n",
       "      <td>7300.0</td>\n",
       "      <td>1.0</td>\n",
       "      <td>0.0</td>\n",
       "      <td>False</td>\n",
       "      <td>0.003185</td>\n",
       "      <td>1.0</td>\n",
       "    </tr>\n",
       "    <tr>\n",
       "      <th>2593985</th>\n",
       "      <td>2022-06-24</td>\n",
       "      <td>9997</td>\n",
       "      <td>710.0</td>\n",
       "      <td>725.0</td>\n",
       "      <td>710.0</td>\n",
       "      <td>719.0</td>\n",
       "      <td>139600.0</td>\n",
       "      <td>1.0</td>\n",
       "      <td>0.0</td>\n",
       "      <td>False</td>\n",
       "      <td>0.015089</td>\n",
       "      <td>1.0</td>\n",
       "    </tr>\n",
       "  </tbody>\n",
       "</table>\n",
       "<p>2593986 rows × 12 columns</p>\n",
       "</div>"
      ],
      "text/plain": [
       "              Date  SecuritiesCode    Open    High     Low   Close     Volume  \\\n",
       "0       2017-01-04            1301  2734.0  2755.0  2730.0  2742.0    31400.0   \n",
       "1       2017-01-04            1332   568.0   576.0   563.0   571.0  2798500.0   \n",
       "2       2017-01-04            1333  3150.0  3210.0  3140.0  3210.0   270800.0   \n",
       "3       2017-01-04            1376  1510.0  1550.0  1510.0  1550.0    11300.0   \n",
       "4       2017-01-04            1377  3270.0  3350.0  3270.0  3330.0   150800.0   \n",
       "...            ...             ...     ...     ...     ...     ...        ...   \n",
       "2593981 2022-06-24            9990   576.0   576.0   563.0   564.0    24200.0   \n",
       "2593982 2022-06-24            9991   810.0   815.0   804.0   815.0     8700.0   \n",
       "2593983 2022-06-24            9993  1548.0  1548.0  1497.0  1497.0    12600.0   \n",
       "2593984 2022-06-24            9994  2507.0  2527.0  2498.0  2527.0     7300.0   \n",
       "2593985 2022-06-24            9997   710.0   725.0   710.0   719.0   139600.0   \n",
       "\n",
       "         AdjustmentFactor  ExpectedDividend  SupervisionFlag    Target  \\\n",
       "0                     1.0               0.0            False  0.000730   \n",
       "1                     1.0               0.0            False  0.012324   \n",
       "2                     1.0               0.0            False  0.006154   \n",
       "3                     1.0               0.0            False  0.011053   \n",
       "4                     1.0               0.0            False  0.003026   \n",
       "...                   ...               ...              ...       ...   \n",
       "2593981               1.0               0.0            False  0.027073   \n",
       "2593982               1.0               0.0            False  0.001220   \n",
       "2593983               1.0               0.0            False  0.001329   \n",
       "2593984               1.0               0.0            False  0.003185   \n",
       "2593985               1.0               0.0            False  0.015089   \n",
       "\n",
       "         CumAdjustmentFactor  \n",
       "0                        1.0  \n",
       "1                        1.0  \n",
       "2                        1.0  \n",
       "3                        1.0  \n",
       "4                        1.0  \n",
       "...                      ...  \n",
       "2593981                  1.0  \n",
       "2593982                  1.0  \n",
       "2593983                  1.0  \n",
       "2593984                  1.0  \n",
       "2593985                  1.0  \n",
       "\n",
       "[2593986 rows x 12 columns]"
      ]
     },
     "execution_count": 2,
     "metadata": {},
     "output_type": "execute_result"
    }
   ],
   "source": [
    "df_prices = pd.read_csv(\"../input/jpx-tokyo-stock-exchange-prediction/train_files/stock_prices.csv\", parse_dates=['Date'])\n",
    "df_sprices = pd.read_csv(\"../input/jpx-tokyo-stock-exchange-prediction/supplemental_files/stock_prices.csv\", parse_dates=['Date'])\n",
    "df_prices = pd.concat((df_prices, df_sprices))\n",
    "\n",
    "df_prices = df_prices[df_prices['Open'].notna()].reset_index(drop=True)\n",
    "df_prices = df_prices.drop(columns=['RowId'])\n",
    "\n",
    "f = lambda df: df[::-1].cumprod()[::-1]\n",
    "df_prices['CumAdjustmentFactor'] = df_prices.groupby('SecuritiesCode')['AdjustmentFactor'].transform(f)\n",
    "for price in ['Open','High','Low','Close']:\n",
    "    df_prices[price] *= df_prices['CumAdjustmentFactor']\n",
    "df_prices['Volume'] /= df_prices['CumAdjustmentFactor']\n",
    "\n",
    "# not sure, change this later\n",
    "df_prices['ExpectedDividend'] = df_prices['ExpectedDividend'].fillna(0)\n",
    "df_prices"
   ]
  },
  {
   "cell_type": "markdown",
   "id": "25e473b9",
   "metadata": {
    "papermill": {
     "duration": 0.003889,
     "end_time": "2022-07-05T21:41:29.306554",
     "exception": false,
     "start_time": "2022-07-05T21:41:29.302665",
     "status": "completed"
    },
    "tags": []
   },
   "source": [
    "## Features and Train"
   ]
  },
  {
   "cell_type": "code",
   "execution_count": 3,
   "id": "f12f024b",
   "metadata": {
    "execution": {
     "iopub.execute_input": "2022-07-05T21:41:29.316772Z",
     "iopub.status.busy": "2022-07-05T21:41:29.316201Z",
     "iopub.status.idle": "2022-07-05T21:41:29.338816Z",
     "shell.execute_reply": "2022-07-05T21:41:29.337721Z"
    },
    "papermill": {
     "duration": 0.030569,
     "end_time": "2022-07-05T21:41:29.341169",
     "exception": false,
     "start_time": "2022-07-05T21:41:29.310600",
     "status": "completed"
    },
    "tags": []
   },
   "outputs": [],
   "source": [
    "class Stock:\n",
    "    def __init__(self, feat):\n",
    "        '''\n",
    "        maintain SecuritiesCode, prices, vol, date, target and features for future calculations\n",
    "        '''\n",
    "        self.SecuritiesCode = int(feat[0][1])\n",
    "        openn = feat[:,2].astype(np.float32)\n",
    "        high = feat[:,3].astype(np.float32)\n",
    "        low = feat[:,4].astype(np.float32)\n",
    "        close = feat[:,5].astype(np.float32)\n",
    "        self.price = (openn+high+low+close)/4\n",
    "        \n",
    "        self.vol = feat[:,6].astype(np.float32)\n",
    "        AdjustmentFactor = feat[:,7].astype(np.float32)\n",
    "        ExpectedDividend = feat[:,8].astype(np.float32)\n",
    "        \n",
    "        # returns\n",
    "        log_ret = np.log(self.price[1:]/self.price[:-1])\n",
    "        \n",
    "        # volume\n",
    "        log_chg_vol = np.log(self.vol[1:]/self.vol[:-1])\n",
    "        \n",
    "        # daily volitality\n",
    "        daily_chg_log = np.log(high/low)\n",
    "        \n",
    "        # volitality\n",
    "        std5 = self.give_std(5, log_ret)\n",
    "        std5_chg = np.log(std5[1:]/(std5[:-1]+1e-16) + 1e-16)\n",
    "        \n",
    "        # others\n",
    "        rsi7 = self.give_rsi(7, log_ret)\n",
    "                \n",
    "        N = np.min((std5_chg.shape[0], rsi7.shape[0]))\n",
    "        self.feat = np.stack((AdjustmentFactor[-N:],\n",
    "                              ExpectedDividend[-N:],\n",
    "                              log_ret[-N:],\n",
    "                              log_ret[-N-1:-1],\n",
    "                              log_ret[-N-2:-2],\n",
    "                              log_ret[-N-3:-3],\n",
    "                              log_ret[-N-4:-4],\n",
    "                              log_ret[-N-5:-5],\n",
    "                              log_ret[-N-6:-6],\n",
    "                              log_chg_vol[-N:],\n",
    "                              log_chg_vol[-N-1:-1],\n",
    "                              log_chg_vol[-N-2:-2],\n",
    "                              daily_chg_log[-N:],\n",
    "                              daily_chg_log[-N-1:-1],\n",
    "                              daily_chg_log[-N-2:-2],\n",
    "                              std5[-N:],\n",
    "                              std5_chg[-N:],\n",
    "                              rsi7[-N:],           \n",
    "                             ), axis=1)\n",
    "        \n",
    "        self.target = log_ret[-N+2:]\n",
    "\n",
    "        self.Date = feat[-N:,0]\n",
    "        \n",
    "    def give_std(self, wsize, log_ret):\n",
    "        return np.array([np.std(log_ret[i+1-wsize:i+1]) for i in range(wsize-1,len(log_ret))], dtype=np.float32)\n",
    "    \n",
    "    def give_rsi(self, rs_wsize, log_ret):\n",
    "        gain = np.where(log_ret>0, log_ret, 0.0)\n",
    "        loss = np.where(log_ret<0, -log_ret, 0.0)\n",
    "        rs = np.array([np.mean(gain[i+1-rs_wsize:i+1]) / (np.mean(loss[i+1-rs_wsize:i+1])+1e-16) for i in range(rs_wsize-1,len(gain))], dtype=np.float32)\n",
    "        return 100 - 100/(1+ rs)\n",
    "    \n",
    "    def add_row(self, feat):\n",
    "        '''\n",
    "        updates all data structures in the class with new data\n",
    "        and return the feature row added \n",
    "        '''\n",
    "        price = (feat[2] + feat[3] + feat[4] + feat[5]) / 4\n",
    "        \n",
    "        AdjustmentFactor = feat[7]\n",
    "        ExpectedDividend = feat[8]\n",
    "        \n",
    "        self.price = np.append(self.price * AdjustmentFactor, price)\n",
    "        self.vol   = np.append(self.vol / AdjustmentFactor, feat[6])\n",
    "        \n",
    "        self.Date = np.append(self.Date, feat[0])\n",
    "        \n",
    "        # target = feat[10]\n",
    "        # self.target = np.append(self.target, target)\n",
    "        \n",
    "        log_ret = np.log(self.price[-1]/self.price[-2])\n",
    "        log_chg_vol = np.log(self.vol[-1]/self.vol[-2])\n",
    "        daily_chg_log = np.log(feat[3] / feat[4])\n",
    "        std5 = np.std(np.append(self.feat[-4:,2], log_ret))\n",
    "        std5_chg = np.log(std5/(self.feat[-1,-3]+1e-16) + 1e-16)\n",
    "                \n",
    "        # others\n",
    "        rsi7 = self.give_rsi(7, np.append(self.feat[-6:,2], log_ret)).item()\n",
    "        \n",
    "        feat_row = np.array([AdjustmentFactor,\n",
    "                             ExpectedDividend,\n",
    "                             log_ret,\n",
    "                             self.feat[-1,2],\n",
    "                             self.feat[-2,2],\n",
    "                             self.feat[-3,2],\n",
    "                             self.feat[-4,2],\n",
    "                             self.feat[-5,2],\n",
    "                             self.feat[-6,2],\n",
    "                             log_chg_vol,\n",
    "                             self.feat[-1,9],\n",
    "                             self.feat[-2,9],\n",
    "                             daily_chg_log,\n",
    "                             self.feat[-1,-6],\n",
    "                             self.feat[-2,-6],\n",
    "                             std5,\n",
    "                             std5_chg,\n",
    "                             rsi7\n",
    "                            ], dtype=np.float32).reshape(1,-1)\n",
    "        \n",
    "        self.feat = np.concatenate((self.feat, feat_row))\n",
    "        return feat_row.reshape(-1)"
   ]
  },
  {
   "cell_type": "code",
   "execution_count": 4,
   "id": "21a7e1ae",
   "metadata": {
    "execution": {
     "iopub.execute_input": "2022-07-05T21:41:29.350968Z",
     "iopub.status.busy": "2022-07-05T21:41:29.350605Z",
     "iopub.status.idle": "2022-07-05T21:45:17.426797Z",
     "shell.execute_reply": "2022-07-05T21:45:17.425414Z"
    },
    "papermill": {
     "duration": 228.084449,
     "end_time": "2022-07-05T21:45:17.429871",
     "exception": false,
     "start_time": "2022-07-05T21:41:29.345422",
     "status": "completed"
    },
    "tags": []
   },
   "outputs": [
    {
     "name": "stderr",
     "output_type": "stream",
     "text": [
      "100%|██████████| 2000/2000 [03:47<00:00,  8.77it/s]\n"
     ]
    }
   ],
   "source": [
    "X_train = None\n",
    "\n",
    "stocks = []\n",
    "\n",
    "for i in tqdm(np.unique(df_prices['SecuritiesCode']).tolist()):\n",
    "    stock = Stock(df_prices[df_prices['SecuritiesCode']==i].values)\n",
    "\n",
    "    stocks.append(stock)\n",
    "    \n",
    "    X = stock.feat[:-2]\n",
    "    y = stock.target\n",
    "\n",
    "    split = int(len(y) * 0.90)\n",
    "    if X_train is None:\n",
    "        X_train = X[:split,:]\n",
    "        X_valid = X[split:,:]\n",
    "        y_train = y[:split]\n",
    "        y_valid = y[split:]\n",
    "    else:\n",
    "        X_train = np.concatenate((X_train, X[:split,:]))\n",
    "        X_valid = np.concatenate((X_valid, X[split:,:]))\n",
    "        y_train = np.concatenate((y_train, y[:split]))\n",
    "        y_valid = np.concatenate((y_valid, y[split:]))"
   ]
  },
  {
   "cell_type": "code",
   "execution_count": 5,
   "id": "5b5b3b35",
   "metadata": {
    "execution": {
     "iopub.execute_input": "2022-07-05T21:45:17.591615Z",
     "iopub.status.busy": "2022-07-05T21:45:17.590447Z",
     "iopub.status.idle": "2022-07-05T21:45:22.204597Z",
     "shell.execute_reply": "2022-07-05T21:45:22.203096Z"
    },
    "papermill": {
     "duration": 4.69712,
     "end_time": "2022-07-05T21:45:22.206987",
     "exception": false,
     "start_time": "2022-07-05T21:45:17.509867",
     "status": "completed"
    },
    "tags": []
   },
   "outputs": [
    {
     "name": "stdout",
     "output_type": "stream",
     "text": [
      "Training until validation scores don't improve for 10 rounds\n",
      "Early stopping, best iteration is:\n",
      "[28]\tvalid_0's l2: 0.000367225\n"
     ]
    },
    {
     "data": {
      "text/plain": [
       "LGBMRegressor(learning_rate=0.02, n_estimators=256)"
      ]
     },
     "execution_count": 5,
     "metadata": {},
     "output_type": "execute_result"
    }
   ],
   "source": [
    "model1 = lgb.LGBMRegressor(learning_rate=0.02, n_estimators=256, boosting_type='gbdt')\n",
    "model1.fit(X_train, y_train, eval_set=[(X_valid, y_valid)], callbacks=[lgb.early_stopping(10)])"
   ]
  },
  {
   "cell_type": "code",
   "execution_count": 6,
   "id": "8779554d",
   "metadata": {
    "execution": {
     "iopub.execute_input": "2022-07-05T21:45:22.372556Z",
     "iopub.status.busy": "2022-07-05T21:45:22.371840Z",
     "iopub.status.idle": "2022-07-05T21:45:25.320081Z",
     "shell.execute_reply": "2022-07-05T21:45:25.318564Z"
    },
    "papermill": {
     "duration": 3.033858,
     "end_time": "2022-07-05T21:45:25.322318",
     "exception": false,
     "start_time": "2022-07-05T21:45:22.288460",
     "status": "completed"
    },
    "tags": []
   },
   "outputs": [
    {
     "name": "stdout",
     "output_type": "stream",
     "text": [
      "Training until validation scores don't improve for 10 rounds\n",
      "Early stopping, best iteration is:\n",
      "[6]\tvalid_0's l2: 0.000367223\n"
     ]
    },
    {
     "data": {
      "text/plain": [
       "LGBMRegressor()"
      ]
     },
     "execution_count": 6,
     "metadata": {},
     "output_type": "execute_result"
    }
   ],
   "source": [
    "model2 = lgb.LGBMRegressor(learning_rate=0.1, n_estimators=100, boosting_type='gbdt')\n",
    "model2.fit(X_train, y_train, eval_set=[(X_valid, y_valid)], callbacks=[lgb.early_stopping(10)])"
   ]
  },
  {
   "cell_type": "code",
   "execution_count": 7,
   "id": "cdfd99b3",
   "metadata": {
    "execution": {
     "iopub.execute_input": "2022-07-05T21:45:25.486184Z",
     "iopub.status.busy": "2022-07-05T21:45:25.485320Z",
     "iopub.status.idle": "2022-07-05T21:45:32.116094Z",
     "shell.execute_reply": "2022-07-05T21:45:32.114746Z"
    },
    "papermill": {
     "duration": 6.714303,
     "end_time": "2022-07-05T21:45:32.118144",
     "exception": false,
     "start_time": "2022-07-05T21:45:25.403841",
     "status": "completed"
    },
    "tags": []
   },
   "outputs": [
    {
     "name": "stdout",
     "output_type": "stream",
     "text": [
      "Training until validation scores don't improve for 10 rounds\n",
      "Early stopping, best iteration is:\n",
      "[49]\tvalid_0's l2: 0.000367222\n"
     ]
    },
    {
     "data": {
      "text/plain": [
       "LGBMRegressor(learning_rate=0.01)"
      ]
     },
     "execution_count": 7,
     "metadata": {},
     "output_type": "execute_result"
    }
   ],
   "source": [
    "model3 = lgb.LGBMRegressor(learning_rate=0.01, n_estimators=100, boosting_type='gbdt')\n",
    "model3.fit(X_train, y_train, eval_set=[(X_valid, y_valid)], callbacks=[lgb.early_stopping(10)])"
   ]
  },
  {
   "cell_type": "code",
   "execution_count": 8,
   "id": "aa4882d4",
   "metadata": {
    "execution": {
     "iopub.execute_input": "2022-07-05T21:45:32.280386Z",
     "iopub.status.busy": "2022-07-05T21:45:32.279993Z",
     "iopub.status.idle": "2022-07-05T21:45:40.327305Z",
     "shell.execute_reply": "2022-07-05T21:45:40.326269Z"
    },
    "papermill": {
     "duration": 8.131527,
     "end_time": "2022-07-05T21:45:40.329591",
     "exception": false,
     "start_time": "2022-07-05T21:45:32.198064",
     "status": "completed"
    },
    "tags": []
   },
   "outputs": [
    {
     "name": "stdout",
     "output_type": "stream",
     "text": [
      "Training until validation scores don't improve for 10 rounds\n",
      "Early stopping, best iteration is:\n",
      "[68]\tvalid_0's l2: 0.000367157\n"
     ]
    },
    {
     "data": {
      "text/plain": [
       "LGBMRegressor(learning_rate=0.01, reg_alpha=10.0, reg_lambda=10.0)"
      ]
     },
     "execution_count": 8,
     "metadata": {},
     "output_type": "execute_result"
    }
   ],
   "source": [
    "model4 = lgb.LGBMRegressor(learning_rate=0.01, n_estimators=100, boosting_type='gbdt', reg_alpha=10.0, reg_lambda=10.0)\n",
    "model4.fit(X_train, y_train, eval_set=[(X_valid, y_valid)], callbacks=[lgb.early_stopping(10)])"
   ]
  },
  {
   "cell_type": "code",
   "execution_count": 9,
   "id": "9fe72040",
   "metadata": {
    "execution": {
     "iopub.execute_input": "2022-07-05T21:45:40.492669Z",
     "iopub.status.busy": "2022-07-05T21:45:40.491640Z",
     "iopub.status.idle": "2022-07-05T21:45:44.076833Z",
     "shell.execute_reply": "2022-07-05T21:45:44.075313Z"
    },
    "papermill": {
     "duration": 3.669877,
     "end_time": "2022-07-05T21:45:44.079327",
     "exception": false,
     "start_time": "2022-07-05T21:45:40.409450",
     "status": "completed"
    },
    "tags": []
   },
   "outputs": [
    {
     "name": "stdout",
     "output_type": "stream",
     "text": [
      "Training until validation scores don't improve for 10 rounds\n",
      "Early stopping, best iteration is:\n",
      "[6]\tvalid_0's l2: 0.000367223\n"
     ]
    },
    {
     "data": {
      "text/plain": [
       "LGBMRegressor(boosting_type='goss')"
      ]
     },
     "execution_count": 9,
     "metadata": {},
     "output_type": "execute_result"
    }
   ],
   "source": [
    "model5 = lgb.LGBMRegressor(learning_rate=0.1, n_estimators=100, boosting_type='goss')\n",
    "model5.fit(X_train, y_train, eval_set=[(X_valid, y_valid)], callbacks=[lgb.early_stopping(10)])"
   ]
  },
  {
   "cell_type": "code",
   "execution_count": 10,
   "id": "dfdef45b",
   "metadata": {
    "execution": {
     "iopub.execute_input": "2022-07-05T21:45:44.306563Z",
     "iopub.status.busy": "2022-07-05T21:45:44.306175Z",
     "iopub.status.idle": "2022-07-05T21:45:48.514426Z",
     "shell.execute_reply": "2022-07-05T21:45:48.513315Z"
    },
    "papermill": {
     "duration": 4.35757,
     "end_time": "2022-07-05T21:45:48.516562",
     "exception": false,
     "start_time": "2022-07-05T21:45:44.158992",
     "status": "completed"
    },
    "tags": []
   },
   "outputs": [
    {
     "name": "stdout",
     "output_type": "stream",
     "text": [
      "Training until validation scores don't improve for 10 rounds\n",
      "Early stopping, best iteration is:\n",
      "[8]\tvalid_0's l2: 0.000367158\n"
     ]
    },
    {
     "data": {
      "text/plain": [
       "LGBMRegressor(boosting_type='goss', reg_alpha=10.0, reg_lambda=10.0)"
      ]
     },
     "execution_count": 10,
     "metadata": {},
     "output_type": "execute_result"
    }
   ],
   "source": [
    "model6 = lgb.LGBMRegressor(learning_rate=0.1, n_estimators=100, boosting_type='goss', reg_alpha=10.0, reg_lambda=10.0)\n",
    "model6.fit(X_train, y_train, eval_set=[(X_valid, y_valid)], callbacks=[lgb.early_stopping(10)])"
   ]
  },
  {
   "cell_type": "code",
   "execution_count": 11,
   "id": "c529c377",
   "metadata": {
    "execution": {
     "iopub.execute_input": "2022-07-05T21:45:48.680630Z",
     "iopub.status.busy": "2022-07-05T21:45:48.680240Z",
     "iopub.status.idle": "2022-07-05T21:45:52.311128Z",
     "shell.execute_reply": "2022-07-05T21:45:52.309955Z"
    },
    "papermill": {
     "duration": 3.715009,
     "end_time": "2022-07-05T21:45:52.313219",
     "exception": false,
     "start_time": "2022-07-05T21:45:48.598210",
     "status": "completed"
    },
    "tags": []
   },
   "outputs": [
    {
     "name": "stdout",
     "output_type": "stream",
     "text": [
      "Training until validation scores don't improve for 10 rounds\n",
      "Early stopping, best iteration is:\n",
      "[5]\tvalid_0's l2: 0.000367182\n"
     ]
    },
    {
     "data": {
      "text/plain": [
       "LGBMRegressor(boosting_type='goss', reg_alpha=5.0, reg_lambda=5.0)"
      ]
     },
     "execution_count": 11,
     "metadata": {},
     "output_type": "execute_result"
    }
   ],
   "source": [
    "model7 = lgb.LGBMRegressor(learning_rate=0.1, n_estimators=100, boosting_type='goss', reg_alpha=5.0, reg_lambda=5.0)\n",
    "model7.fit(X_train, y_train, eval_set=[(X_valid, y_valid)], callbacks=[lgb.early_stopping(10)])"
   ]
  },
  {
   "cell_type": "code",
   "execution_count": 12,
   "id": "9c670e5f",
   "metadata": {
    "execution": {
     "iopub.execute_input": "2022-07-05T21:45:52.477484Z",
     "iopub.status.busy": "2022-07-05T21:45:52.476439Z",
     "iopub.status.idle": "2022-07-05T21:45:58.495296Z",
     "shell.execute_reply": "2022-07-05T21:45:58.494211Z"
    },
    "papermill": {
     "duration": 6.104107,
     "end_time": "2022-07-05T21:45:58.497737",
     "exception": false,
     "start_time": "2022-07-05T21:45:52.393630",
     "status": "completed"
    },
    "tags": []
   },
   "outputs": [
    {
     "name": "stdout",
     "output_type": "stream",
     "text": [
      "Training until validation scores don't improve for 10 rounds\n",
      "Early stopping, best iteration is:\n",
      "[28]\tvalid_0's l2: 0.000367225\n"
     ]
    },
    {
     "data": {
      "text/plain": [
       "LGBMRegressor(boosting_type='goss', learning_rate=0.02)"
      ]
     },
     "execution_count": 12,
     "metadata": {},
     "output_type": "execute_result"
    }
   ],
   "source": [
    "model8 = lgb.LGBMRegressor(learning_rate=0.02, n_estimators=100, boosting_type='goss')\n",
    "model8.fit(X_train, y_train, eval_set=[(X_valid, y_valid)], callbacks=[lgb.early_stopping(10)])"
   ]
  },
  {
   "cell_type": "markdown",
   "id": "34391368",
   "metadata": {
    "papermill": {
     "duration": 0.080743,
     "end_time": "2022-07-05T21:45:58.659950",
     "exception": false,
     "start_time": "2022-07-05T21:45:58.579207",
     "status": "completed"
    },
    "tags": []
   },
   "source": [
    "## Submission"
   ]
  },
  {
   "cell_type": "code",
   "execution_count": 13,
   "id": "88066453",
   "metadata": {
    "execution": {
     "iopub.execute_input": "2022-07-05T21:45:58.824219Z",
     "iopub.status.busy": "2022-07-05T21:45:58.823115Z",
     "iopub.status.idle": "2022-07-05T21:45:58.831001Z",
     "shell.execute_reply": "2022-07-05T21:45:58.829712Z"
    },
    "papermill": {
     "duration": 0.092244,
     "end_time": "2022-07-05T21:45:58.833214",
     "exception": false,
     "start_time": "2022-07-05T21:45:58.740970",
     "status": "completed"
    },
    "tags": []
   },
   "outputs": [],
   "source": [
    "scode_dict = {}\n",
    "all_codes = []\n",
    "for i in range(len(stocks)):\n",
    "    scode_dict[stocks[i].SecuritiesCode] = i\n",
    "    all_codes.append(int(stocks[i].SecuritiesCode))\n",
    "all_codes = sorted(all_codes)"
   ]
  },
  {
   "cell_type": "code",
   "execution_count": 14,
   "id": "c4a07559",
   "metadata": {
    "execution": {
     "iopub.execute_input": "2022-07-05T21:45:58.997917Z",
     "iopub.status.busy": "2022-07-05T21:45:58.997530Z",
     "iopub.status.idle": "2022-07-05T21:46:00.328442Z",
     "shell.execute_reply": "2022-07-05T21:46:00.327624Z"
    },
    "papermill": {
     "duration": 1.415543,
     "end_time": "2022-07-05T21:46:00.330719",
     "exception": false,
     "start_time": "2022-07-05T21:45:58.915176",
     "status": "completed"
    },
    "tags": []
   },
   "outputs": [
    {
     "name": "stdout",
     "output_type": "stream",
     "text": [
      "This version of the API is not optimized and should not be used to estimate the runtime of your code on the hidden test set.\n"
     ]
    }
   ],
   "source": [
    "import jpx_tokyo_market_prediction\n",
    "env = jpx_tokyo_market_prediction.make_env()   # initialize the environment\n",
    "iter_test = env.iter_test()    # an iterator which loops over the test files\n",
    "for (prices, options, financials, trades, secondary_prices, sample_prediction) in iter_test:\n",
    "    #----------------code here----------------#\n",
    "    prices = prices[prices['Open'].notna()].reset_index(drop=True)\n",
    "    prices = prices.drop(columns=['RowId'])\n",
    "    prices['ExpectedDividend'] = prices['ExpectedDividend'].fillna(0)\n",
    "    \n",
    "    feat_date = prices.values\n",
    "    feat_rows = []\n",
    "    scodes = []\n",
    "    for raw_row in feat_date:\n",
    "        scode = int(raw_row[1])\n",
    "        scodes.append(scode)\n",
    "        feat_row = stocks[scode_dict[scode]].add_row(raw_row)\n",
    "        feat_rows.append(feat_row)\n",
    "    feat_rows = np.array(feat_rows, dtype=np.float32)\n",
    "    \n",
    "    pred1 = model1.predict(feat_rows)\n",
    "    pred2 = model2.predict(feat_rows)\n",
    "    pred3 = model3.predict(feat_rows)\n",
    "    pred4 = model4.predict(feat_rows)\n",
    "    pred5 = model5.predict(feat_rows)\n",
    "    pred6 = model6.predict(feat_rows)\n",
    "    pred7 = model7.predict(feat_rows)\n",
    "    pred8 = model8.predict(feat_rows)\n",
    "    pred = (pred1 + pred2 + pred3 + pred4 + pred5 + pred6 + pred7 + pred8) / 8\n",
    "    \n",
    "    mpred = np.median(pred)\n",
    "    pred_submission = []\n",
    "    idx = 0\n",
    "    for i in range(2000):\n",
    "        if scodes[idx] == all_codes[i]:\n",
    "            pred_submission.append(pred[idx])\n",
    "            idx += 1\n",
    "        else:\n",
    "            pred_submission.append(mpred)\n",
    "    \n",
    "    rank = np.array(pred_submission).argsort()[::-1].argsort()\n",
    "    assert len(rank) == 2000\n",
    "    #----------------------------------------#\n",
    "    sample_prediction['Rank'] = rank  # make your predictions here\n",
    "    env.predict(sample_prediction)   # register your predictions"
   ]
  },
  {
   "cell_type": "code",
   "execution_count": null,
   "id": "021a4706",
   "metadata": {
    "papermill": {
     "duration": 0.082136,
     "end_time": "2022-07-05T21:46:00.494611",
     "exception": false,
     "start_time": "2022-07-05T21:46:00.412475",
     "status": "completed"
    },
    "tags": []
   },
   "outputs": [],
   "source": []
  }
 ],
 "metadata": {
  "kernelspec": {
   "display_name": "Python 3",
   "language": "python",
   "name": "python3"
  },
  "language_info": {
   "codemirror_mode": {
    "name": "ipython",
    "version": 3
   },
   "file_extension": ".py",
   "mimetype": "text/x-python",
   "name": "python",
   "nbconvert_exporter": "python",
   "pygments_lexer": "ipython3",
   "version": "3.7.12"
  },
  "papermill": {
   "default_parameters": {},
   "duration": 292.110983,
   "end_time": "2022-07-05T21:46:01.799118",
   "environment_variables": {},
   "exception": null,
   "input_path": "__notebook__.ipynb",
   "output_path": "__notebook__.ipynb",
   "parameters": {},
   "start_time": "2022-07-05T21:41:09.688135",
   "version": "2.3.4"
  }
 },
 "nbformat": 4,
 "nbformat_minor": 5
}
